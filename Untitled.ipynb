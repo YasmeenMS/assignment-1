{
 "cells": [
  {
   "cell_type": "code",
   "execution_count": 1,
   "id": "94fd3f17",
   "metadata": {},
   "outputs": [
    {
     "name": "stdout",
     "output_type": "stream",
     "text": [
      "Requirement already satisfied: opencv-python in c:\\users\\aedpu\\anaconda3\\lib\\site-packages (4.7.0.72)Note: you may need to restart the kernel to use updated packages.\n",
      "\n",
      "Requirement already satisfied: numpy>=1.19.3 in c:\\users\\aedpu\\anaconda3\\lib\\site-packages (from opencv-python) (1.21.5)\n"
     ]
    }
   ],
   "source": [
    "pip install opencv-python"
   ]
  },
  {
   "cell_type": "code",
   "execution_count": 2,
   "id": "aa82b9cc",
   "metadata": {},
   "outputs": [],
   "source": [
    "import cv2 as a"
   ]
  },
  {
   "cell_type": "code",
   "execution_count": 3,
   "id": "1d436a96",
   "metadata": {},
   "outputs": [],
   "source": [
    "img=a.imread(\"day.jpg\")"
   ]
  },
  {
   "cell_type": "code",
   "execution_count": 4,
   "id": "92a0db4f",
   "metadata": {},
   "outputs": [],
   "source": [
    "avg=a.blur(img,(25,25))"
   ]
  },
  {
   "cell_type": "code",
   "execution_count": null,
   "id": "a491ffb2",
   "metadata": {},
   "outputs": [],
   "source": [
    "a.imshow(\"img\",img)\n",
    "a.waitKey(0)\n",
    "a.imshow(\"avg\",avg)\n",
    "a.waitKey(0)\n",
    "a.destroyAllWindows()"
   ]
  },
  {
   "cell_type": "code",
   "execution_count": null,
   "id": "6c8553f2",
   "metadata": {},
   "outputs": [],
   "source": [
    "a.imwrite(\"C:/Users/aedpu/task 1/readed images/normalimage.jpg\",img)"
   ]
  },
  {
   "cell_type": "code",
   "execution_count": null,
   "id": "412aa717",
   "metadata": {},
   "outputs": [],
   "source": [
    "a.imwrite(\"C:/Users/aedpu/task 1/readed images/blurimage.jpg\",avg)"
   ]
  },
  {
   "cell_type": "code",
   "execution_count": null,
   "id": "2aa9a905",
   "metadata": {},
   "outputs": [],
   "source": [
    "med=a.medianBlur(img,7)"
   ]
  },
  {
   "cell_type": "code",
   "execution_count": null,
   "id": "03634437",
   "metadata": {},
   "outputs": [],
   "source": [
    "a.imshow(\"IMG\",img)\n",
    "a.waitKey(0)\n",
    "a.imshow(\"BLUR\",med)\n",
    "a.waitKey(0)\n",
    "a.destroyAllWindows()"
   ]
  },
  {
   "cell_type": "code",
   "execution_count": null,
   "id": "c6b62350",
   "metadata": {},
   "outputs": [],
   "source": [
    "gau=a.GaussionBlur(img,(2,2),2)"
   ]
  },
  {
   "cell_type": "code",
   "execution_count": null,
   "id": "615a6ac9",
   "metadata": {},
   "outputs": [],
   "source": [
    "a.imshow(\"IMG\",img)\n",
    "a.waitKey(0)\n",
    "a.imshow(\"BLUR\",gau)\n",
    "a.waitKey(0)\n",
    "a.destroyAllWindows()"
   ]
  },
  {
   "cell_type": "code",
   "execution_count": null,
   "id": "afa2d3a1",
   "metadata": {},
   "outputs": [],
   "source": [
    "bi=bilateralFilter(img,30,20,10)"
   ]
  },
  {
   "cell_type": "code",
   "execution_count": null,
   "id": "8503ef09",
   "metadata": {},
   "outputs": [],
   "source": [
    "a.imshow(\"IMG\",img)\n",
    "a.waitKey(0)\n",
    "a.imshow(\"bilateral\",bi)\n",
    "a.waitKey(0)\n",
    "a.destroyAllWindows()"
   ]
  },
  {
   "cell_type": "code",
   "execution_count": null,
   "id": "7a5c4186",
   "metadata": {},
   "outputs": [],
   "source": [
    "a.imwrite(\"clear image.jpg\",clear)"
   ]
  },
  {
   "cell_type": "code",
   "execution_count": null,
   "id": "442f1b3f",
   "metadata": {},
   "outputs": [],
   "source": [
    "a.imshow(\"before\",image)\n",
    "a.imshow(\"after\",clear)\n",
    "a.waitKey(0)\n",
    "a.destroyAllWindows()"
   ]
  },
  {
   "cell_type": "code",
   "execution_count": null,
   "id": "77c07e71",
   "metadata": {},
   "outputs": [],
   "source": [
    "con=a.cvtColor(img,a.COLOR_BGR2HLS)"
   ]
  },
  {
   "cell_type": "code",
   "execution_count": null,
   "id": "aa61502c",
   "metadata": {},
   "outputs": [],
   "source": [
    "a.imshow(\"image\",con)\n",
    "a.waitKey(0)\n",
    "a.destroyAllWindows()\n"
   ]
  },
  {
   "cell_type": "code",
   "execution_count": null,
   "id": "0b874be7",
   "metadata": {},
   "outputs": [],
   "source": [
    "img_re=a.resize(img,None,fx=0.5,fy=0.5,interpolation=a.INTER_LINEAR)"
   ]
  },
  {
   "cell_type": "code",
   "execution_count": null,
   "id": "1d1ff25b",
   "metadata": {},
   "outputs": [],
   "source": [
    "print(img_re.shape)\n",
    "a.imshow(\"image\",img_re)\n",
    "a.waitKey(0)\n",
    "a.destroyAllWindows()"
   ]
  },
  {
   "cell_type": "code",
   "execution_count": null,
   "id": "0361f4c9",
   "metadata": {},
   "outputs": [],
   "source": [
    "img_re2=a.resize(img,(360,360))"
   ]
  },
  {
   "cell_type": "code",
   "execution_count": null,
   "id": "0fe59e37",
   "metadata": {},
   "outputs": [],
   "source": [
    "a.imshow(\"Original Image\",img)\n",
    "a.waitKey(0)\n",
    "a.imshow(\"resized Image\",img_re2)\n",
    "a.waitKey(0)\n",
    "a.destroyAllWindows()"
   ]
  },
  {
   "cell_type": "code",
   "execution_count": null,
   "id": "de2d29d5",
   "metadata": {},
   "outputs": [],
   "source": [
    "shp=img.shape\n",
    "print(shp)"
   ]
  },
  {
   "cell_type": "code",
   "execution_count": null,
   "id": "299007c6",
   "metadata": {},
   "outputs": [],
   "source": [
    "s=img.size\n",
    "print(s)"
   ]
  },
  {
   "cell_type": "code",
   "execution_count": null,
   "id": "9b105761",
   "metadata": {},
   "outputs": [],
   "source": [
    "p=img[200,200]\n",
    "print(p)"
   ]
  },
  {
   "cell_type": "code",
   "execution_count": null,
   "id": "d8b40fc4",
   "metadata": {},
   "outputs": [],
   "source": []
  },
  {
   "cell_type": "code",
   "execution_count": null,
   "id": "bf9440a2",
   "metadata": {},
   "outputs": [],
   "source": []
  }
 ],
 "metadata": {
  "kernelspec": {
   "display_name": "Python 3 (ipykernel)",
   "language": "python",
   "name": "python3"
  },
  "language_info": {
   "codemirror_mode": {
    "name": "ipython",
    "version": 3
   },
   "file_extension": ".py",
   "mimetype": "text/x-python",
   "name": "python",
   "nbconvert_exporter": "python",
   "pygments_lexer": "ipython3",
   "version": "3.9.13"
  }
 },
 "nbformat": 4,
 "nbformat_minor": 5
}
