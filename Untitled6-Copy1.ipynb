{
 "cells": [
  {
   "cell_type": "markdown",
   "id": "d50316da",
   "metadata": {},
   "source": [
    "\n",
    "# Seaborn"
   ]
  },
  {
   "cell_type": "code",
   "execution_count": 4,
   "id": "f90be08a",
   "metadata": {},
   "outputs": [],
   "source": [
    "import seaborn as s\n",
    "import numpy as np"
   ]
  },
  {
   "cell_type": "code",
   "execution_count": 5,
   "id": "100de27b",
   "metadata": {},
   "outputs": [
    {
     "data": {
      "text/plain": [
       "['anagrams',\n",
       " 'anscombe',\n",
       " 'attention',\n",
       " 'brain_networks',\n",
       " 'car_crashes',\n",
       " 'diamonds',\n",
       " 'dots',\n",
       " 'dowjones',\n",
       " 'exercise',\n",
       " 'flights',\n",
       " 'fmri',\n",
       " 'geyser',\n",
       " 'glue',\n",
       " 'healthexp',\n",
       " 'iris',\n",
       " 'mpg',\n",
       " 'penguins',\n",
       " 'planets',\n",
       " 'seaice',\n",
       " 'taxis',\n",
       " 'tips',\n",
       " 'titanic']"
      ]
     },
     "execution_count": 5,
     "metadata": {},
     "output_type": "execute_result"
    }
   ],
   "source": [
    "s.get_dataset_names()"
   ]
  },
  {
   "cell_type": "code",
   "execution_count": 6,
   "id": "b10f13f0",
   "metadata": {},
   "outputs": [],
   "source": [
    "data=s.load_dataset('tips')"
   ]
  },
  {
   "cell_type": "code",
   "execution_count": 8,
   "id": "620243cf",
   "metadata": {},
   "outputs": [],
   "source": [
    "rand=np.random.random(50)"
   ]
  },
  {
   "cell_type": "code",
   "execution_count": 9,
   "id": "ae841784",
   "metadata": {},
   "outputs": [
    {
     "data": {
      "text/plain": [
       "array([0.3994087 , 0.41581878, 0.00831606, 0.66501293, 0.59098492,\n",
       "       0.90604492, 0.48781073, 0.98958191, 0.03525104, 0.67219888,\n",
       "       0.96067819, 0.06405816, 0.76348486, 0.87701925, 0.98011281,\n",
       "       0.34500457, 0.88752919, 0.97813597, 0.82588272, 0.33785456,\n",
       "       0.78709895, 0.3988901 , 0.6187701 , 0.20286023, 0.93250168,\n",
       "       0.59223676, 0.4042921 , 0.91152715, 0.28072611, 0.37508119,\n",
       "       0.4796284 , 0.13598254, 0.54456786, 0.18861184, 0.91063546,\n",
       "       0.85278466, 0.80751479, 0.07576532, 0.79357167, 0.46532455,\n",
       "       0.79740753, 0.84912486, 0.31863695, 0.55428753, 0.90373096,\n",
       "       0.09589939, 0.50300842, 0.14663902, 0.8109406 , 0.80941449])"
      ]
     },
     "execution_count": 9,
     "metadata": {},
     "output_type": "execute_result"
    }
   ],
   "source": [
    "rand"
   ]
  },
  {
   "cell_type": "code",
   "execution_count": 10,
   "id": "c1c8a3ec",
   "metadata": {},
   "outputs": [
    {
     "data": {
      "text/plain": [
       "<AxesSubplot:ylabel='Count'>"
      ]
     },
     "execution_count": 10,
     "metadata": {},
     "output_type": "execute_result"
    },
    {
     "data": {
      "image/png": "[encoded data removed]",
      "text/plain": [
       "<Figure size 432x288 with 1 Axes>"
      ]
     },
     "metadata": {
      "needs_background": "light"
     },
     "output_type": "display_data"
    }
   ],
   "source": [
    "s.histplot(rand)"
   ]
  },
  {
   "cell_type": "code",
   "execution_count": null,
   "id": "2574336b",
   "metadata": {},
   "outputs": [],
   "source": []
  }
 ],
 "metadata": {
  "kernelspec": {
   "display_name": "Python 3 (ipykernel)",
   "language": "python",
   "name": "python3"
  },
  "language_info": {
   "codemirror_mode": {
    "name": "ipython",
    "version": 3
   },
   "file_extension": ".py",
   "mimetype": "text/x-python",
   "name": "python",
   "nbconvert_exporter": "python",
   "pygments_lexer": "ipython3",
   "version": "3.9.7"
  }
 },
 "nbformat": 4,
 "nbformat_minor": 5
}
